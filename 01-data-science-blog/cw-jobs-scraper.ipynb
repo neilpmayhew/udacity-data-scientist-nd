{
 "cells": [
  {
   "cell_type": "code",
   "execution_count": null,
   "metadata": {},
   "outputs": [],
   "source": [
    "def scrape_job_links(driver,url,link_css_selector,stop_function,page_start=1,page_inc=1,):\n",
    "    page = page_start\n",
    "    \n",
    "    job_links = []\n",
    "    \n",
    "    while True:\n",
    "\n",
    "        driver.get(url.format(page_number=page))\n",
    "        \n",
    "        print(f'scraping {driver.current_url}')\n",
    "        \n",
    "        job_link_elements = driver.find_elements_by_css_selector(link_css_selector)\n",
    "        \n",
    "        if stop_function(driver) == True:\n",
    "            break\n",
    "        else:\n",
    "            print(f'found {len(job_link_elements)} urls')\n",
    "            job_links+=[job_link_element.get_attribute('href') for job_link_element in job_link_elements]\n",
    "        \n",
    "        page+=page_inc\n",
    "        \n",
    "    return list(set(job_links))\n",
    "\n",
    "def scrape_cwjob_details(driver,url):\n",
    "    driver.get(url)\n",
    "    \n",
    "    job = {}\n",
    "    \n",
    "    df_job = json.loads(driver.find_elements_by_css_selector('script#jobPostingSchema')[0].get_attribute('innerHTML'))\n",
    "    \n",
    "    job['url'] = df_job['url']\n",
    "    job['title'] = df_job['title']\n",
    "    job['job_type'] = df_job['employmentType']\n",
    "    job['job_description_html'] = df_job['description']\n",
    "    \n",
    "    df_hiring_org = pd.json_normalize(df_job['hiringOrganization'])\n",
    "    \n",
    "    job['hiring_organization'] = df_hiring_org['name'][0]\n",
    "    \n",
    "    \n",
    "\n",
    "    return job"
   ]
  }
 ],
 "metadata": {
  "kernelspec": {
   "display_name": "Python 3",
   "language": "python",
   "name": "python3"
  },
  "language_info": {
   "codemirror_mode": {
    "name": "ipython",
    "version": 3
   },
   "file_extension": ".py",
   "mimetype": "text/x-python",
   "name": "python",
   "nbconvert_exporter": "python",
   "pygments_lexer": "ipython3",
   "version": "3.8.5"
  }
 },
 "nbformat": 4,
 "nbformat_minor": 4
}
